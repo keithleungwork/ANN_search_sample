{
 "cells": [
  {
   "attachments": {},
   "cell_type": "markdown",
   "metadata": {},
   "source": [
    "# ANN via Annoy\n",
    "\n",
    "In this notebook, we will use a public Japanese company name & address dataset to try the ANN search via Annoy, a lib made by Spotify."
   ]
  },
  {
   "attachments": {},
   "cell_type": "markdown",
   "metadata": {},
   "source": [
    "Before importing below library, you may need to install fasttext by following the step [here](https://fasttext.cc/docs/en/support.html#building-fasttext-python-module)."
   ]
  },
  {
   "cell_type": "code",
   "execution_count": 1,
   "metadata": {},
   "outputs": [],
   "source": [
    "import annoy\n",
    "import pandas as pd\n",
    "import numpy as np\n",
    "import fasttext.util"
   ]
  },
  {
   "attachments": {},
   "cell_type": "markdown",
   "metadata": {},
   "source": [
    "Setup some variables"
   ]
  },
  {
   "cell_type": "code",
   "execution_count": 14,
   "metadata": {},
   "outputs": [],
   "source": [
    "# we will demonstrate with 1000 samples first.\n",
    "# Change the name to others if you are using the full dataset\n",
    "npz_name = 'sample_1000.npz'"
   ]
  },
  {
   "attachments": {},
   "cell_type": "markdown",
   "metadata": {},
   "source": [
    "## Load the dataset\n",
    "\n",
    "> NOTE: skip to \"Load the cache file\" if you already saved a npz cache\n",
    "\n",
    "Here we use a public dataset containing all company names and addresses in Japan.  You can download the dataset from [here](https://info.gbiz.go.jp/hojin/DownloadTop)."
   ]
  },
  {
   "cell_type": "code",
   "execution_count": 46,
   "metadata": {},
   "outputs": [],
   "source": [
    "data = pd.read_csv(\"./tmp/converted_company_ds.csv\", dtype=str)\n"
   ]
  },
  {
   "cell_type": "code",
   "execution_count": 47,
   "metadata": {},
   "outputs": [
    {
     "data": {
      "text/html": [
       "<div>\n",
       "<style scoped>\n",
       "    .dataframe tbody tr th:only-of-type {\n",
       "        vertical-align: middle;\n",
       "    }\n",
       "\n",
       "    .dataframe tbody tr th {\n",
       "        vertical-align: top;\n",
       "    }\n",
       "\n",
       "    .dataframe thead th {\n",
       "        text-align: right;\n",
       "    }\n",
       "</style>\n",
       "<table border=\"1\" class=\"dataframe\">\n",
       "  <thead>\n",
       "    <tr style=\"text-align: right;\">\n",
       "      <th></th>\n",
       "      <th>法人名</th>\n",
       "      <th>郵便番号</th>\n",
       "      <th>本社所在地</th>\n",
       "      <th>concat_name</th>\n",
       "    </tr>\n",
       "  </thead>\n",
       "  <tbody>\n",
       "    <tr>\n",
       "      <th>69309</th>\n",
       "      <td>合同会社アミスター</td>\n",
       "      <td>086-1137</td>\n",
       "      <td>北海道標津郡中標津町字俵橋1425番地1</td>\n",
       "      <td>合同会社アミスター 086-1137 北海道標津郡中標津町字俵橋1425番地1</td>\n",
       "    </tr>\n",
       "    <tr>\n",
       "      <th>1083975</th>\n",
       "      <td>株式会社ザ・グリーン</td>\n",
       "      <td>170-0011</td>\n",
       "      <td>東京都豊島区池袋本町3丁目19番5池袋マンションヒルハイム302号</td>\n",
       "      <td>株式会社ザ・グリーン 170-0011 東京都豊島区池袋本町3丁目19番5池袋マンションヒル...</td>\n",
       "    </tr>\n",
       "    <tr>\n",
       "      <th>3380912</th>\n",
       "      <td>株式会社元気</td>\n",
       "      <td>865-0057</td>\n",
       "      <td>熊本県玉名市小浜577番地</td>\n",
       "      <td>株式会社元気 865-0057 熊本県玉名市小浜577番地</td>\n",
       "    </tr>\n",
       "    <tr>\n",
       "      <th>1910772</th>\n",
       "      <td>株式会社YOU&amp;I</td>\n",
       "      <td>921-8044</td>\n",
       "      <td>石川県金沢市米泉町8丁目147番地3</td>\n",
       "      <td>株式会社YOU&amp;I 921-8044 石川県金沢市米泉町8丁目147番地3</td>\n",
       "    </tr>\n",
       "    <tr>\n",
       "      <th>1963744</th>\n",
       "      <td>有限会社マルエツ</td>\n",
       "      <td>400-0117</td>\n",
       "      <td>山梨県甲斐市西八幡2295番地7</td>\n",
       "      <td>有限会社マルエツ 400-0117 山梨県甲斐市西八幡2295番地7</td>\n",
       "    </tr>\n",
       "  </tbody>\n",
       "</table>\n",
       "</div>"
      ],
      "text/plain": [
       "                法人名      郵便番号                              本社所在地  \\\n",
       "69309     合同会社アミスター  086-1137               北海道標津郡中標津町字俵橋1425番地1   \n",
       "1083975  株式会社ザ・グリーン  170-0011  東京都豊島区池袋本町3丁目19番5池袋マンションヒルハイム302号   \n",
       "3380912      株式会社元気  865-0057                      熊本県玉名市小浜577番地   \n",
       "1910772   株式会社YOU&I  921-8044                 石川県金沢市米泉町8丁目147番地3   \n",
       "1963744    有限会社マルエツ  400-0117                   山梨県甲斐市西八幡2295番地7   \n",
       "\n",
       "                                               concat_name  \n",
       "69309              合同会社アミスター 086-1137 北海道標津郡中標津町字俵橋1425番地1  \n",
       "1083975  株式会社ザ・グリーン 170-0011 東京都豊島区池袋本町3丁目19番5池袋マンションヒル...  \n",
       "3380912                      株式会社元気 865-0057 熊本県玉名市小浜577番地  \n",
       "1910772              株式会社YOU&I 921-8044 石川県金沢市米泉町8丁目147番地3  \n",
       "1963744                 有限会社マルエツ 400-0117 山梨県甲斐市西八幡2295番地7  "
      ]
     },
     "execution_count": 47,
     "metadata": {},
     "output_type": "execute_result"
    }
   ],
   "source": [
    "# convert NaN to empty string\n",
    "data = data.fillna(\"\")\n",
    "data.sample(5)"
   ]
  },
  {
   "attachments": {},
   "cell_type": "markdown",
   "metadata": {},
   "source": [
    "We will merge use the `concat_name` for converting into embedding."
   ]
  },
  {
   "cell_type": "code",
   "execution_count": 48,
   "metadata": {},
   "outputs": [
    {
     "name": "stdout",
     "output_type": "stream",
     "text": [
      "(5167760,)\n"
     ]
    }
   ],
   "source": [
    "# Here is a subset of converted data\n",
    "# NOTE: remove the array slicing if you want to try the whole dataset\n",
    "# features = data[\"concat_name\"].sample(1000).values\n",
    "features = data[\"concat_name\"].values\n",
    "print(features.shape)"
   ]
  },
  {
   "cell_type": "code",
   "execution_count": 49,
   "metadata": {},
   "outputs": [],
   "source": [
    "# Delete the df to save memory...\n",
    "del(data)"
   ]
  },
  {
   "attachments": {},
   "cell_type": "markdown",
   "metadata": {},
   "source": [
    "-----\n",
    "## Convert to Embedding\n",
    "\n",
    "Because AnnoyIndex expects vectors as input.\n",
    "We need to convert the text dataset into embedding first.\n",
    "Here we use word vectors pre-trained by fastText [here](https://fasttext.cc/docs/en/crawl-vectors.html)."
   ]
  },
  {
   "cell_type": "code",
   "execution_count": 50,
   "metadata": {},
   "outputs": [
    {
     "data": {
      "text/plain": [
       "'cc.ja.300.bin'"
      ]
     },
     "execution_count": 50,
     "metadata": {},
     "output_type": "execute_result"
    }
   ],
   "source": [
    "# Download the japanese gz\n",
    "fasttext.util.download_model('ja', if_exists='ignore')"
   ]
  },
  {
   "cell_type": "code",
   "execution_count": 51,
   "metadata": {},
   "outputs": [],
   "source": [
    "# Load the pre-trained model\n",
    "ft = fasttext.load_model('cc.ja.300.bin')"
   ]
  },
  {
   "attachments": {},
   "cell_type": "markdown",
   "metadata": {},
   "source": [
    "Get a feeling of how it looks like after conversion."
   ]
  },
  {
   "cell_type": "code",
   "execution_count": 52,
   "metadata": {},
   "outputs": [
    {
     "name": "stdout",
     "output_type": "stream",
     "text": [
      "original text:  釧路検察審査会 085-0824 北海道釧路市柏木町4-7\n",
      "[ 0.00846744 -0.00213045  0.01018206 -0.017642    0.00224876 -0.00461199\n",
      " -0.00132453  0.00140697  0.0024185  -0.00132811]\n"
     ]
    }
   ],
   "source": [
    "# A sample of the word vector inside\n",
    "print(\"original text: \", features[0])\n",
    "print(ft.get_word_vector(features[0])[:10])"
   ]
  },
  {
   "attachments": {},
   "cell_type": "markdown",
   "metadata": {},
   "source": [
    "It even provided nearest neighbor function, to search within the pre-built vectors :P "
   ]
  },
  {
   "cell_type": "code",
   "execution_count": 53,
   "metadata": {},
   "outputs": [
    {
     "data": {
      "text/plain": [
       "[(0.9167303442955017, 'こんばんは'),\n",
       " (0.9152794480323792, 'こんにちわ'),\n",
       " (0.8549860715866089, 'こんばんわ'),\n",
       " (0.7946215271949768, 'はじめまして'),\n",
       " (0.7212551236152649, 'おはよう'),\n",
       " (0.6740288734436035, 'どーも'),\n",
       " (0.6339334845542908, 'こんち'),\n",
       " (0.6219503283500671, 'どうも'),\n",
       " (0.6091426014900208, 'みなさん'),\n",
       " (0.5997785925865173, 'ゃにゃちは')]"
      ]
     },
     "execution_count": 53,
     "metadata": {},
     "output_type": "execute_result"
    }
   ],
   "source": [
    "ft.get_nearest_neighbors('こんにちは')"
   ]
  },
  {
   "attachments": {},
   "cell_type": "markdown",
   "metadata": {},
   "source": [
    "Now we will convert all text features into word embeddings.\n",
    "It might take you a few minutes."
   ]
  },
  {
   "cell_type": "code",
   "execution_count": 54,
   "metadata": {},
   "outputs": [],
   "source": [
    "features_vec = np.zeros((features.shape[0], ft.get_dimension()))\n",
    "\n",
    "for i, sentence in enumerate(features):\n",
    "    features_vec[i] = ft.get_word_vector(sentence)"
   ]
  },
  {
   "cell_type": "code",
   "execution_count": 55,
   "metadata": {},
   "outputs": [
    {
     "name": "stdout",
     "output_type": "stream",
     "text": [
      "(5167760,)\n",
      "(5167760, 300)\n"
     ]
    }
   ],
   "source": [
    "print(features.shape)\n",
    "# (sample, vector dim)\n",
    "print(features_vec.shape)"
   ]
  },
  {
   "attachments": {},
   "cell_type": "markdown",
   "metadata": {},
   "source": [
    "Store the converted array into npz so we don't need to repeat this step every time"
   ]
  },
  {
   "cell_type": "code",
   "execution_count": 13,
   "metadata": {},
   "outputs": [],
   "source": [
    "np.savez(npz_name, features=features, features_vec=features_vec)"
   ]
  },
  {
   "attachments": {},
   "cell_type": "markdown",
   "metadata": {},
   "source": [
    "-------\n",
    "## Load the cache file\n",
    "\n",
    "If you saved the npz file before, we can start from here directly.\n"
   ]
  },
  {
   "cell_type": "code",
   "execution_count": 65,
   "metadata": {},
   "outputs": [
    {
     "name": "stdout",
     "output_type": "stream",
     "text": [
      "Keys in npz file:  ['features', 'features_vec']\n",
      "(1000,)\n",
      "(1000, 300)\n"
     ]
    }
   ],
   "source": [
    "with  np.load(npz_name, allow_pickle=True) as data:\n",
    "    print(\"Keys in npz file: \", data.files)\n",
    "    features = data[\"features\"]\n",
    "    features_vec = data[\"features_vec\"]\n",
    "print(features.shape)\n",
    "print(features_vec.shape)"
   ]
  },
  {
   "attachments": {},
   "cell_type": "markdown",
   "metadata": {},
   "source": [
    "Take a look a few sample"
   ]
  },
  {
   "cell_type": "code",
   "execution_count": 16,
   "metadata": {},
   "outputs": [
    {
     "name": "stdout",
     "output_type": "stream",
     "text": [
      "['中央ビルト工業労働組合 103-0014 東京都中央区日本橋蛎殻町1丁目32番4号泉山ビル302号'\n",
      " '有限会社雄樹 192-0352 東京都八王子市大塚659番地4' 'ルビノ株式会社 570-0016 大阪府守口市大日東町12番4-501号'\n",
      " 'ニッポンレンタカーインターナショナル株式会社 101-0022 東京都千代田区神田練塀町3番地'\n",
      " 'RITS合同会社 241-0814 神奈川県横浜市旭区中沢1丁目45番15号']\n",
      "[[ 0.00111406  0.0046774   0.00639492 ... -0.00128364  0.00148696\n",
      "   0.00602549]\n",
      " [ 0.00214144 -0.0007309   0.00914047 ... -0.00852792  0.00559978\n",
      "   0.00463601]\n",
      " [-0.0039255   0.00277318  0.01046435 ... -0.00221889 -0.0067863\n",
      "   0.0023125 ]\n",
      " [ 0.0019468  -0.00327     0.01153757 ... -0.01252608 -0.00367758\n",
      "   0.0089357 ]\n",
      " [-0.00116498  0.00584311  0.00664053 ... -0.00388806  0.00300434\n",
      "   0.00281819]]\n"
     ]
    }
   ],
   "source": [
    "print(features[:5])\n",
    "print(features_vec[:5][:10])"
   ]
  },
  {
   "attachments": {},
   "cell_type": "markdown",
   "metadata": {},
   "source": [
    "-------------\n",
    "## Build Annoy Index\n",
    "\n",
    "Define the number of trees, which is the number of random projections used by \"Annoy\" to create the index. The number of trees is a hyperparameter that affects the accuracy of the ANN search. You may need to experiment with different values to find the optimal number for your dataset:"
   ]
  },
  {
   "cell_type": "code",
   "execution_count": 56,
   "metadata": {},
   "outputs": [],
   "source": [
    "# Adjust it to optimize the search performance\n",
    "n_trees = 100"
   ]
  },
  {
   "attachments": {},
   "cell_type": "markdown",
   "metadata": {},
   "source": [
    "Here we go! We will build the whole forest with the dataset. It will take you a while to build it up."
   ]
  },
  {
   "cell_type": "code",
   "execution_count": 66,
   "metadata": {},
   "outputs": [
    {
     "data": {
      "text/plain": [
       "True"
      ]
     },
     "execution_count": 66,
     "metadata": {},
     "output_type": "execute_result"
    }
   ],
   "source": [
    "# Note: shape[1] is the dimension of the embedding\n",
    "# You can also change the metric to other values, such as euclidean, angular...etc\n",
    "index = annoy.AnnoyIndex(features_vec.shape[1], metric='angular')\n",
    "\n",
    "for i, row in enumerate(features_vec):\n",
    "    index.add_item(i, row)\n",
    "\n",
    "index.build(n_trees)"
   ]
  },
  {
   "attachments": {},
   "cell_type": "markdown",
   "metadata": {},
   "source": [
    "Save the ann forest!"
   ]
  },
  {
   "cell_type": "code",
   "execution_count": 67,
   "metadata": {},
   "outputs": [
    {
     "data": {
      "text/plain": [
       "True"
      ]
     },
     "execution_count": 67,
     "metadata": {},
     "output_type": "execute_result"
    }
   ],
   "source": [
    "index.save('test_1000.ann')\n",
    "# index.save('test_full.ann')"
   ]
  },
  {
   "attachments": {},
   "cell_type": "markdown",
   "metadata": {},
   "source": [
    "-----\n",
    "## Test the inference\n",
    "\n",
    "Now we have the ANN forest trained, let's take a look how it performs.\n"
   ]
  },
  {
   "attachments": {},
   "cell_type": "markdown",
   "metadata": {},
   "source": [
    "Load the trained ann."
   ]
  },
  {
   "cell_type": "code",
   "execution_count": 68,
   "metadata": {},
   "outputs": [
    {
     "data": {
      "text/plain": [
       "True"
      ]
     },
     "execution_count": 68,
     "metadata": {},
     "output_type": "execute_result"
    }
   ],
   "source": [
    "index = annoy.AnnoyIndex(features_vec.shape[1], 'angular')\n",
    "# index.load('test_full.ann')\n",
    "index.load('test_1000.ann')"
   ]
  },
  {
   "cell_type": "code",
   "execution_count": 27,
   "metadata": {},
   "outputs": [
    {
     "name": "stdout",
     "output_type": "stream",
     "text": [
      "['有限会社アドバイザー 350-2201 埼玉県鶴ヶ島市富士見2丁目10番11号'\n",
      " '合同会社アクリエクト 870-0952 大分県大分市下郡北3丁目457番地の1フクシンビル2F'\n",
      " '有限会社ウエノ電設 675-1201 兵庫県加古川市八幡町宗佐467番地'\n",
      " '医療法人社団ふくろうの森 080-0019 北海道帯広市西九条南13丁目4番地1'\n",
      " '株式会社湧音工作 596-0031 大阪府岸和田市春木大小路町1番37号']\n"
     ]
    }
   ],
   "source": [
    "# pick some sample\n",
    "test_samples = np.random.choice(features, 5, replace=False)\n",
    "print(test_samples)"
   ]
  },
  {
   "attachments": {},
   "cell_type": "markdown",
   "metadata": {},
   "source": [
    "Prepare a function to infer with the classifier."
   ]
  },
  {
   "cell_type": "code",
   "execution_count": 60,
   "metadata": {},
   "outputs": [],
   "source": [
    "def search_ann(input_text: str): \n",
    "    test_emb = ft.get_word_vector(input_text)\n",
    "    # Get 3 most closest index\n",
    "    results, dists = index.get_nns_by_vector(test_emb, 3, search_k=-1, include_distances=True)\n",
    "    # show the original label\n",
    "    print(\"Input: \", input_text)\n",
    "    for i, ind in enumerate(results):\n",
    "        print(f\"Distance : {dists[i]:0.4f} for entity: \", features[ind])\n",
    "    print(\"=\" * 100)"
   ]
  },
  {
   "attachments": {},
   "cell_type": "markdown",
   "metadata": {},
   "source": [
    "Now, we can do some test to see how it goes."
   ]
  },
  {
   "cell_type": "code",
   "execution_count": 69,
   "metadata": {},
   "outputs": [
    {
     "name": "stdout",
     "output_type": "stream",
     "text": [
      "Input:  有限会社アドバイザー 350-2201 埼玉県鶴ヶ島市富士見2丁目10番11号\n",
      "Distance : 0.0000 for entity:  有限会社アドバイザー 350-2201 埼玉県鶴ヶ島市富士見2丁目10番11号\n",
      "Distance : 0.9615 for entity:  みどりの風 141-0021 東京都品川区上大崎3丁目3-9-717\n",
      "Distance : 0.9709 for entity:  有限会社フオトローグ 290-0157 千葉県市原市押沼690番地1ちはら台3-32-1-1ファミールハイツ9-401\n",
      "====================================================================================================\n",
      "Input:  合同会アクリ 870-0952 大分県大分市下郡北3丁目457番地の1フクシンビル2F\n",
      "Distance : 0.3547 for entity:  合同会社アクリエクト 870-0952 大分県大分市下郡北3丁目457番地の1フクシンビル2F\n",
      "Distance : 0.8528 for entity:  株式会社マイミチ 080-1408 北海道河東郡上士幌町字上士幌東1線234番地36プリマ上士幌C棟302号\n",
      "Distance : 0.8907 for entity:  大分県農業協同組合中央会 870-0044 大分県大分市舞鶴町1丁目4番15号\n",
      "====================================================================================================\n",
      "Input:  有限会社ウエノ電設 635-01 兵庫県加古川市八幡町宗佐467番地\n",
      "Distance : 0.7440 for entity:  有限会社ウエノ電設 675-1201 兵庫県加古川市八幡町宗佐467番地\n",
      "Distance : 0.8426 for entity:  有限会社アイビーケセラ 668-0051 兵庫県豊岡市九日市上町467番地1\n",
      "Distance : 0.8960 for entity:  有限会社マックス 658-0051 兵庫県神戸市東灘区住吉本町2丁目18番14号\n",
      "====================================================================================================\n",
      "Input:  医療法人社団ふくろうの森 080-0019 北海道帯西九条東丁目4番地\n",
      "Distance : 0.7648 for entity:  医療法人社団ふくろうの森 080-0019 北海道帯広市西九条南13丁目4番地1\n",
      "Distance : 0.9923 for entity:  浅野瀝青工業株式会社 065-0019 北海道札幌市東区北十九条東7丁目1番15号\n",
      "Distance : 1.0100 for entity:  OKUO合同会社 270-0115 千葉県流山市江戸川台西2丁目110番地の1\n",
      "====================================================================================================\n",
      "Input:  株湧工作 596-000000 大阪府岸和田37号\n",
      "Distance : 0.9707 for entity:  社会福祉法人麻機福祉会 420-0961 静岡県静岡市葵区北1丁目11番55号\n",
      "Distance : 0.9786 for entity:  日本種遠生命科學研究所株式会社 619-0245 京都府相楽郡精華町大字下狛小字西川原79番地1-1階\n",
      "Distance : 0.9809 for entity:  嚴島神社 722-2412 広島県尾道市瀬戸田町高根字原494番地\n",
      "====================================================================================================\n"
     ]
    }
   ],
   "source": [
    "text_candidates = [\n",
    "    # exactly same : '有限会社アドバイザー 350-2201 埼玉県鶴ヶ島市富士見2丁目10番11号'\n",
    "    '有限会社アドバイザー 350-2201 埼玉県鶴ヶ島市富士見2丁目10番11号',\n",
    "    # Remove part of company name :  '合同会社アクリエクト 870-0952 大分県大分市下郡北3丁目457番地の1フクシンビル2F'\n",
    "    '合同会アクリ 870-0952 大分県大分市下郡北3丁目457番地の1フクシンビル2F',\n",
    "    # Remove part of postal code and add wrong digit :  '有限会社ウエノ電設 675-1201 兵庫県加古川市八幡町宗佐467番地'\n",
    "    '有限会社ウエノ電設 635-01 兵庫県加古川市八幡町宗佐467番地',\n",
    "    # Remove part of address and add wrong text :  '医療法人社団ふくろうの森 080-0019 北海道帯広市西九条南13丁目4番地1'\n",
    "    '医療法人社団ふくろうの森 080-0019 北海道帯西九条東丁目4番地',\n",
    "    # Just break the whole text lol :  '株式会社湧音工作 596-0031 大阪府岸和田市春木大小路町1番37号'\n",
    "    '株湧工作 596-000000 大阪府岸和田37号',\n",
    "]\n",
    "\n",
    "for i in text_candidates:\n",
    "    search_ann(i)"
   ]
  }
 ],
 "metadata": {
  "kernelspec": {
   "display_name": ".venv",
   "language": "python",
   "name": "python3"
  },
  "language_info": {
   "codemirror_mode": {
    "name": "ipython",
    "version": 3
   },
   "file_extension": ".py",
   "mimetype": "text/x-python",
   "name": "python",
   "nbconvert_exporter": "python",
   "pygments_lexer": "ipython3",
   "version": "3.9.13"
  },
  "orig_nbformat": 4
 },
 "nbformat": 4,
 "nbformat_minor": 2
}
