{
 "cells": [
  {
   "attachments": {},
   "cell_type": "markdown",
   "metadata": {},
   "source": [
    "# ANN via Annoy\n",
    "\n",
    "In this notebook, we will use a public Japanese company name & address dataset to try the ANN search via Annoy, a lib made by Spotify."
   ]
  },
  {
   "attachments": {},
   "cell_type": "markdown",
   "metadata": {},
   "source": [
    "Before importing below library, you may need to install fasttext by following the step [here](https://fasttext.cc/docs/en/support.html#building-fasttext-python-module)."
   ]
  },
  {
   "cell_type": "code",
   "execution_count": 1,
   "metadata": {},
   "outputs": [],
   "source": [
    "import annoy\n",
    "import pandas as pd\n",
    "import numpy as np\n",
    "import fasttext.util"
   ]
  },
  {
   "attachments": {},
   "cell_type": "markdown",
   "metadata": {},
   "source": [
    "## Load the dataset\n",
    "\n",
    "> NOTE: skip to \"Load the cache file\" if you already saved a npz cache\n",
    "\n",
    "Here we use a public dataset containing all company names and addresses in Japan.  You can download the dataset from [here](https://info.gbiz.go.jp/hojin/DownloadTop)."
   ]
  },
  {
   "cell_type": "code",
   "execution_count": 2,
   "metadata": {},
   "outputs": [],
   "source": [
    "data = pd.read_csv('./resource/company_address.csv', dtype=str)\n"
   ]
  },
  {
   "cell_type": "code",
   "execution_count": 3,
   "metadata": {},
   "outputs": [
    {
     "data": {
      "text/html": [
       "<div>\n",
       "<style scoped>\n",
       "    .dataframe tbody tr th:only-of-type {\n",
       "        vertical-align: middle;\n",
       "    }\n",
       "\n",
       "    .dataframe tbody tr th {\n",
       "        vertical-align: top;\n",
       "    }\n",
       "\n",
       "    .dataframe thead th {\n",
       "        text-align: right;\n",
       "    }\n",
       "</style>\n",
       "<table border=\"1\" class=\"dataframe\">\n",
       "  <thead>\n",
       "    <tr style=\"text-align: right;\">\n",
       "      <th></th>\n",
       "      <th>法人番号</th>\n",
       "      <th>法人名</th>\n",
       "      <th>郵便番号</th>\n",
       "      <th>g1</th>\n",
       "      <th>g2</th>\n",
       "      <th>g3</th>\n",
       "      <th>g4</th>\n",
       "      <th>rest</th>\n",
       "    </tr>\n",
       "  </thead>\n",
       "  <tbody>\n",
       "    <tr>\n",
       "      <th>1732163</th>\n",
       "      <td>3110002029379</td>\n",
       "      <td>有限会社森山新聞店</td>\n",
       "      <td>9400044</td>\n",
       "      <td>新潟県</td>\n",
       "      <td>長岡市</td>\n",
       "      <td>住吉</td>\n",
       "      <td>2-4-14</td>\n",
       "      <td></td>\n",
       "    </tr>\n",
       "    <tr>\n",
       "      <th>3615002</th>\n",
       "      <td>8020005013987</td>\n",
       "      <td>特定非営利活動法人日本セラエクサ協会</td>\n",
       "      <td>2360052</td>\n",
       "      <td>神奈川県</td>\n",
       "      <td>横浜市金沢区</td>\n",
       "      <td>富岡西</td>\n",
       "      <td>4-76-16</td>\n",
       "      <td></td>\n",
       "    </tr>\n",
       "    <tr>\n",
       "      <th>262208</th>\n",
       "      <td>9410003002340</td>\n",
       "      <td>トヨタ觀光不動産開發合資会社</td>\n",
       "      <td>0140311</td>\n",
       "      <td>秋田県</td>\n",
       "      <td>仙北市</td>\n",
       "      <td>角館町田町上丁</td>\n",
       "      <td>88</td>\n",
       "      <td></td>\n",
       "    </tr>\n",
       "    <tr>\n",
       "      <th>800718</th>\n",
       "      <td>1010501033728</td>\n",
       "      <td>株式会社川口</td>\n",
       "      <td>1100016</td>\n",
       "      <td>東京都</td>\n",
       "      <td>台東区</td>\n",
       "      <td>台東</td>\n",
       "      <td>4-6-5</td>\n",
       "      <td></td>\n",
       "    </tr>\n",
       "    <tr>\n",
       "      <th>2899321</th>\n",
       "      <td>7480002010455</td>\n",
       "      <td>有限会社幸徳運輸</td>\n",
       "      <td>7790312</td>\n",
       "      <td>徳島県</td>\n",
       "      <td>鳴門市</td>\n",
       "      <td>大麻町東馬詰字諏訪の元</td>\n",
       "      <td>41-1</td>\n",
       "      <td></td>\n",
       "    </tr>\n",
       "  </tbody>\n",
       "</table>\n",
       "</div>"
      ],
      "text/plain": [
       "                  法人番号                 法人名     郵便番号    g1      g2  \\\n",
       "1732163  3110002029379           有限会社森山新聞店  9400044   新潟県     長岡市   \n",
       "3615002  8020005013987  特定非営利活動法人日本セラエクサ協会  2360052  神奈川県  横浜市金沢区   \n",
       "262208   9410003002340      トヨタ觀光不動産開發合資会社  0140311   秋田県     仙北市   \n",
       "800718   1010501033728              株式会社川口  1100016   東京都     台東区   \n",
       "2899321  7480002010455            有限会社幸徳運輸  7790312   徳島県     鳴門市   \n",
       "\n",
       "                  g3       g4 rest  \n",
       "1732163           住吉   2-4-14       \n",
       "3615002          富岡西  4-76-16       \n",
       "262208       角館町田町上丁       88       \n",
       "800718            台東    4-6-5       \n",
       "2899321  大麻町東馬詰字諏訪の元     41-1       "
      ]
     },
     "execution_count": 3,
     "metadata": {},
     "output_type": "execute_result"
    }
   ],
   "source": [
    "# convert NaN to empty string\n",
    "data = data.fillna(\"\")\n",
    "data.sample(5)"
   ]
  },
  {
   "cell_type": "code",
   "execution_count": 4,
   "metadata": {},
   "outputs": [
    {
     "data": {
      "text/plain": [
       "Index(['法人番号', '法人名', '郵便番号', 'g1', 'g2', 'g3', 'g4', 'rest'], dtype='object')"
      ]
     },
     "execution_count": 4,
     "metadata": {},
     "output_type": "execute_result"
    }
   ],
   "source": [
    "data.columns"
   ]
  },
  {
   "cell_type": "code",
   "execution_count": 5,
   "metadata": {},
   "outputs": [
    {
     "data": {
      "text/plain": [
       "array([['有限会社スパイス', '1140001', '東京都', '北区', '東十条', '3-5-12', ''],\n",
       "       ['八幡神社', '3491142', '埼玉県', '加須市', '杓子木', '148', ''],\n",
       "       ['南信木材工業株式会社', '3991201', '長野県', '下伊那郡天龍村', '平岡', '1415', ''],\n",
       "       ['株式会社彩コーポレーション', '1450071', '東京都', '大田区', '田園調布', '2-15-7',\n",
       "        '田園調布ヒルズ502号'],\n",
       "       ['株式会社スマイルチンタイ', '8570052', '長崎県', '佐世保市', '松浦町', '2-17', '']],\n",
       "      dtype=object)"
      ]
     },
     "execution_count": 5,
     "metadata": {},
     "output_type": "execute_result"
    }
   ],
   "source": [
    "fields_for_index = ['法人名', '郵便番号', 'g1', 'g2', 'g3', 'g4', 'rest']    \n",
    "# try a small set\n",
    "data.sample(5)[fields_for_index].values"
   ]
  },
  {
   "attachments": {},
   "cell_type": "markdown",
   "metadata": {},
   "source": [
    "### Experiment:\n",
    "Previously I tested the AnnoyIndex with the `features` in separate columns (by flattening the array).\n",
    "However, the result is not doing well because I observed that some fields with shorter text length will become more significant when performing a match.\n",
    "\n",
    "So I want to try to merge all the column into 1 sentence before embedding, with below rules:\n",
    "- Make a space between organization name and address\n",
    "- Make NO space between address parts, EXCEPT the final column `rest`."
   ]
  },
  {
   "cell_type": "code",
   "execution_count": 6,
   "metadata": {},
   "outputs": [
    {
     "data": {
      "text/plain": [
       "array(['有限会社岳野建設 長崎県西海市大瀬戸町瀬戸西濱郷 411-19 ', '株式会社中岡 大阪府大阪市平野区加美西 1-15-4 ',\n",
       "       '株式会社エス・ケーリース 東京都調布市仙川町 2-7-7 ', '有限会社丸田運輸 佐賀県佐賀市大和町大字尼寺 1891-1 ',\n",
       "       '有限会社十八番 東京都西多摩郡瑞穂町むさし野 2-48-14 '], dtype=object)"
      ]
     },
     "execution_count": 6,
     "metadata": {},
     "output_type": "execute_result"
    }
   ],
   "source": [
    "data[\"concat_name\"] = data['法人名'] +  \" \" + data[\"g1\"] + data[\"g2\"] + data[\"g3\"] + \" \" + data[\"g4\"] + \" \" + data[\"rest\"]\n",
    "data[\"concat_name\"].sample(5).values"
   ]
  },
  {
   "cell_type": "code",
   "execution_count": 7,
   "metadata": {},
   "outputs": [],
   "source": [
    "# Here is a subset of converted data\n",
    "# NOTE: remove the array slicing if you want to try the whole dataset\n",
    "features = data[\"concat_name\"].sample(1000).values"
   ]
  },
  {
   "cell_type": "code",
   "execution_count": 8,
   "metadata": {},
   "outputs": [],
   "source": [
    "# Delete the df to save memory...\n",
    "del(data)"
   ]
  },
  {
   "attachments": {},
   "cell_type": "markdown",
   "metadata": {},
   "source": [
    "-----\n",
    "## Convert to Embedding\n",
    "\n",
    "Because AnnoyIndex expects number as input.\n",
    "We need to convert the text dataset into embedding first.\n",
    "Here we use word vectors pre-trained by fastText [here](https://fasttext.cc/docs/en/crawl-vectors.html)."
   ]
  },
  {
   "cell_type": "code",
   "execution_count": 9,
   "metadata": {},
   "outputs": [
    {
     "data": {
      "text/plain": [
       "'cc.ja.300.bin'"
      ]
     },
     "execution_count": 9,
     "metadata": {},
     "output_type": "execute_result"
    }
   ],
   "source": [
    "# Download the japanese gz\n",
    "fasttext.util.download_model('ja', if_exists='ignore')"
   ]
  },
  {
   "cell_type": "code",
   "execution_count": 10,
   "metadata": {},
   "outputs": [],
   "source": [
    "# Load the pre-trained model\n",
    "ft = fasttext.load_model('cc.ja.300.bin')"
   ]
  },
  {
   "cell_type": "code",
   "execution_count": 11,
   "metadata": {},
   "outputs": [
    {
     "data": {
      "text/plain": [
       "array([-0.0113956 , -0.00107074,  0.00674794, -0.00688771,  0.00272137,\n",
       "       -0.0007362 , -0.01064106,  0.00073996, -0.00454364, -0.00703756],\n",
       "      dtype=float32)"
      ]
     },
     "execution_count": 11,
     "metadata": {},
     "output_type": "execute_result"
    }
   ],
   "source": [
    "# A sample of the word vector inside\n",
    "ft.get_word_vector(features[0])[:10]"
   ]
  },
  {
   "attachments": {},
   "cell_type": "markdown",
   "metadata": {},
   "source": [
    "It even provided nearest neighbor function :P "
   ]
  },
  {
   "cell_type": "code",
   "execution_count": 12,
   "metadata": {},
   "outputs": [
    {
     "data": {
      "text/plain": [
       "[(0.9167303442955017, 'こんばんは'),\n",
       " (0.9152794480323792, 'こんにちわ'),\n",
       " (0.8549860715866089, 'こんばんわ'),\n",
       " (0.7946215271949768, 'はじめまして'),\n",
       " (0.7212551236152649, 'おはよう'),\n",
       " (0.6740288734436035, 'どーも'),\n",
       " (0.6339334845542908, 'こんち'),\n",
       " (0.6219503283500671, 'どうも'),\n",
       " (0.6091426014900208, 'みなさん'),\n",
       " (0.5997785925865173, 'ゃにゃちは')]"
      ]
     },
     "execution_count": 12,
     "metadata": {},
     "output_type": "execute_result"
    }
   ],
   "source": [
    "ft.get_nearest_neighbors('こんにちは')\n"
   ]
  },
  {
   "attachments": {},
   "cell_type": "markdown",
   "metadata": {},
   "source": [
    "Now we will convert all text features into word embeddings.\n",
    "It might take you a few minutes."
   ]
  },
  {
   "cell_type": "code",
   "execution_count": 13,
   "metadata": {},
   "outputs": [],
   "source": [
    "features_vec = np.zeros((features.shape[0], ft.get_dimension()))\n",
    "\n",
    "for i, sentence in enumerate(features):\n",
    "    features_vec[i] = ft.get_word_vector(sentence)"
   ]
  },
  {
   "cell_type": "code",
   "execution_count": 14,
   "metadata": {},
   "outputs": [
    {
     "name": "stdout",
     "output_type": "stream",
     "text": [
      "(1000,)\n",
      "(1000, 300)\n"
     ]
    }
   ],
   "source": [
    "print(features.shape)\n",
    "# (sample, vector dim)\n",
    "print(features_vec.shape)"
   ]
  },
  {
   "attachments": {},
   "cell_type": "markdown",
   "metadata": {},
   "source": [
    "Store the converted array into npz so we don't need to repeat this step every time"
   ]
  },
  {
   "cell_type": "code",
   "execution_count": 15,
   "metadata": {},
   "outputs": [],
   "source": [
    "\n",
    "np.savez('sample_1000.npz', features=features, features_vec=features_vec)"
   ]
  },
  {
   "attachments": {},
   "cell_type": "markdown",
   "metadata": {},
   "source": [
    "-------\n",
    "## Load the cache file\n",
    "\n",
    "If you saved the npz file before, we can start from here directly.\n"
   ]
  },
  {
   "cell_type": "code",
   "execution_count": 19,
   "metadata": {},
   "outputs": [
    {
     "name": "stdout",
     "output_type": "stream",
     "text": [
      "Keys in npz file:  ['features', 'features_vec']\n",
      "(1000,)\n",
      "(1000, 300)\n"
     ]
    }
   ],
   "source": [
    "with  np.load(\"sample_1000.npz\", allow_pickle=True) as data:\n",
    "    print(\"Keys in npz file: \", data.files)\n",
    "    features = data[\"features\"]\n",
    "    features_vec = data[\"features_vec\"]\n",
    "print(features.shape)\n",
    "print(features_vec.shape)"
   ]
  },
  {
   "attachments": {},
   "cell_type": "markdown",
   "metadata": {},
   "source": [
    "Take a look a few sample"
   ]
  },
  {
   "cell_type": "code",
   "execution_count": 22,
   "metadata": {},
   "outputs": [
    {
     "name": "stdout",
     "output_type": "stream",
     "text": [
      "['北海道網走郡美幌町字栄町 4-10-6 ' '東京都江東区海辺 16-10 ' '大阪府堺市南区和田東 999-1 '\n",
      " '愛知県名古屋市千種区城木町 1-13 ' '鹿児島県志布志市志布志町安楽 2581-8 ']\n",
      "[[-1.09495688e-02  3.20577458e-03 -4.78808099e-04 ... -7.76627660e-03\n",
      "  -2.34671105e-02  1.96876237e-03]\n",
      " [-3.60717007e-04  1.98141905e-03 -3.94161325e-03 ... -5.49455080e-03\n",
      "   4.95103840e-03  9.80593497e-04]\n",
      " [-5.71642828e-04 -6.75229821e-04  1.11593818e-02 ... -8.25786963e-03\n",
      "  -4.05592255e-05  2.39052693e-03]\n",
      " [-2.50220438e-03  7.16901198e-03  1.20953145e-02 ... -7.61051057e-03\n",
      "  -7.72130862e-03  6.91708410e-04]\n",
      " [-1.11861143e-03  3.19462339e-03  7.88116176e-03 ... -4.67671221e-03\n",
      "  -5.70234470e-03  2.03545089e-03]]\n"
     ]
    }
   ],
   "source": [
    "print(features[:5])\n",
    "print(features_vec[:5][:10])"
   ]
  },
  {
   "attachments": {},
   "cell_type": "markdown",
   "metadata": {},
   "source": [
    "-------------\n",
    "## Build Annoy Index\n",
    "\n",
    "Define the number of trees, which is the number of random projections used by \"Annoy\" to create the index. The number of trees is a hyperparameter that affects the accuracy of the ANN search. You may need to experiment with different values to find the optimal number for your dataset:"
   ]
  },
  {
   "cell_type": "code",
   "execution_count": 102,
   "metadata": {},
   "outputs": [],
   "source": [
    "# Adjust it to optimize the search performance\n",
    "n_trees = 1000"
   ]
  },
  {
   "attachments": {},
   "cell_type": "markdown",
   "metadata": {},
   "source": [
    "Here we go! We will build the whole forest with the dataset. It will take you a while to build it up."
   ]
  },
  {
   "cell_type": "code",
   "execution_count": 147,
   "metadata": {},
   "outputs": [
    {
     "data": {
      "text/plain": [
       "True"
      ]
     },
     "execution_count": 147,
     "metadata": {},
     "output_type": "execute_result"
    }
   ],
   "source": [
    "# Note: shape[1] is the dimension of the embedding\n",
    "index = annoy.AnnoyIndex(features_vec.shape[1], metric='euclidean')\n",
    "\n",
    "for i, row in enumerate(features_vec):\n",
    "    index.add_item(i, row)\n",
    "\n",
    "index.build(n_trees)"
   ]
  },
  {
   "attachments": {},
   "cell_type": "markdown",
   "metadata": {},
   "source": [
    "Save the ann forest!"
   ]
  },
  {
   "cell_type": "code",
   "execution_count": 47,
   "metadata": {},
   "outputs": [
    {
     "data": {
      "text/plain": [
       "True"
      ]
     },
     "execution_count": 47,
     "metadata": {},
     "output_type": "execute_result"
    }
   ],
   "source": [
    "index.save('test_1000.ann')"
   ]
  },
  {
   "cell_type": "code",
   "execution_count": 49,
   "metadata": {},
   "outputs": [
    {
     "data": {
      "text/plain": [
       "True"
      ]
     },
     "execution_count": 49,
     "metadata": {},
     "output_type": "execute_result"
    }
   ],
   "source": [
    "index = annoy.AnnoyIndex(features_vec.shape[1], metric='euclidean')\n",
    "index.load('test_1000.ann') # super fast, will just mmap the file"
   ]
  },
  {
   "attachments": {},
   "cell_type": "markdown",
   "metadata": {},
   "source": [
    "-----\n",
    "## Test\n"
   ]
  },
  {
   "cell_type": "code",
   "execution_count": 104,
   "metadata": {},
   "outputs": [
    {
     "name": "stdout",
     "output_type": "stream",
     "text": [
      "['愛知県岡崎市赤渋町字野中 11-3 ' '愛知県岡崎市伝馬通 5-7 ' '大阪府大阪市東淀川区西淡路 1-3-32 '\n",
      " '埼玉県志木市柏町 5-4-6 ホワイト20C号室' '石川県加賀市黒瀬町 354-3 ']\n"
     ]
    }
   ],
   "source": [
    "print(features[:5])"
   ]
  },
  {
   "cell_type": "code",
   "execution_count": 156,
   "metadata": {},
   "outputs": [
    {
     "name": "stdout",
     "output_type": "stream",
     "text": [
      "(300,)\n",
      "[757, 151, 661, 299, 983, 382, 451, 623, 221, 878]\n",
      "[0.11101184040307999, 0.11249707639217377, 0.11250942945480347, 0.11417366564273834, 0.11479569226503372, 0.11494060605764389, 0.11550846695899963, 0.11552218347787857, 0.11562547832727432, 0.11582881957292557]\n",
      "Distance : 0.1110 for entity:  神奈川県横浜市瀬谷区阿久和西 4-21-1 ・1棟301号\n",
      "Distance : 0.1125 for entity:  東京都千代田区神田佐久間町 3-31-3 \n",
      "Distance : 0.1125 for entity:  京都府京都市西京区桂春日町 75-76 合地エスパシオ離宮208号室\n",
      "Distance : 0.1142 for entity:  神奈川県横浜市中区太田町 2-32-1 ビラアペックス横浜関内6B\n",
      "Distance : 0.1148 for entity:  埼玉県さいたま市浦和区木崎 4-10-11 セジュール立葉II103\n",
      "Distance : 0.1149 for entity:  東京都千代田区神田佐久間町 1-14 第2東ビル717号室\n",
      "Distance : 0.1155 for entity:  東京都千代田区飯田橋 2-6-6 ヒューリック飯田橋ビル6階\n",
      "Distance : 0.1155 for entity:  神奈川県横浜市都筑区茅ケ崎中央 21-12 森村ビル2F\n",
      "Distance : 0.1156 for entity:  福岡県北九州市若松区ひびきの 1-8 事業化支援センター502号室\n",
      "Distance : 0.1158 for entity:  長野県北佐久郡軽井沢町大字発地 1623 \n"
     ]
    }
   ],
   "source": [
    "# 愛知県岡崎市赤渋町字野中 11-3\n",
    "# 埼玉県志木市柏町 5-4-6 ホワイト20C号室\n",
    "test_emb = ft.get_word_vector(\"埼玉県志木市  20C号室\")\n",
    "print(test_emb.shape)\n",
    "# Get 5 most closest index\n",
    "results, dists = index.get_nns_by_vector(test_emb, 10, search_k=-1, include_distances=True)\n",
    "print(results)\n",
    "print(dists)\n",
    "# show the original label\n",
    "for i, ind in enumerate(results):\n",
    "    print(f\"Distance : {dists[i]:0.4f} for entity: \", features[ind])"
   ]
  }
 ],
 "metadata": {
  "kernelspec": {
   "display_name": ".venv",
   "language": "python",
   "name": "python3"
  },
  "language_info": {
   "codemirror_mode": {
    "name": "ipython",
    "version": 3
   },
   "file_extension": ".py",
   "mimetype": "text/x-python",
   "name": "python",
   "nbconvert_exporter": "python",
   "pygments_lexer": "ipython3",
   "version": "3.9.13"
  },
  "orig_nbformat": 4
 },
 "nbformat": 4,
 "nbformat_minor": 2
}
