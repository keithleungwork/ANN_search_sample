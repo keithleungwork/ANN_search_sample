{
 "cells": [
  {
   "attachments": {},
   "cell_type": "markdown",
   "metadata": {},
   "source": [
    "# Prepare dataset\n",
    "\n",
    "In this notebook, we will prepare the data for use later."
   ]
  },
  {
   "cell_type": "code",
   "execution_count": 11,
   "metadata": {},
   "outputs": [],
   "source": [
    "import pandas as pd\n",
    "import numpy as np"
   ]
  },
  {
   "attachments": {},
   "cell_type": "markdown",
   "metadata": {},
   "source": [
    "## Load the dataset\n",
    "\n",
    "Here we use a public dataset containing all company names and addresses in Japan.  You can download the dataset from [here](https://info.gbiz.go.jp/hojin/DownloadTop)."
   ]
  },
  {
   "cell_type": "code",
   "execution_count": 12,
   "metadata": {},
   "outputs": [],
   "source": [
    "data = pd.read_csv('./resource/company_address.csv', dtype=str)\n"
   ]
  },
  {
   "cell_type": "code",
   "execution_count": 13,
   "metadata": {},
   "outputs": [
    {
     "data": {
      "text/html": [
       "<div>\n",
       "<style scoped>\n",
       "    .dataframe tbody tr th:only-of-type {\n",
       "        vertical-align: middle;\n",
       "    }\n",
       "\n",
       "    .dataframe tbody tr th {\n",
       "        vertical-align: top;\n",
       "    }\n",
       "\n",
       "    .dataframe thead th {\n",
       "        text-align: right;\n",
       "    }\n",
       "</style>\n",
       "<table border=\"1\" class=\"dataframe\">\n",
       "  <thead>\n",
       "    <tr style=\"text-align: right;\">\n",
       "      <th></th>\n",
       "      <th>法人番号</th>\n",
       "      <th>法人名</th>\n",
       "      <th>郵便番号</th>\n",
       "      <th>g1</th>\n",
       "      <th>g2</th>\n",
       "      <th>g3</th>\n",
       "      <th>g4</th>\n",
       "      <th>rest</th>\n",
       "    </tr>\n",
       "  </thead>\n",
       "  <tbody>\n",
       "    <tr>\n",
       "      <th>1274975</th>\n",
       "      <td>7010401065758</td>\n",
       "      <td>株式会社KMSアソシエイツ</td>\n",
       "      <td>1050014</td>\n",
       "      <td>東京都</td>\n",
       "      <td>港区</td>\n",
       "      <td>芝</td>\n",
       "      <td>2-5-15-210</td>\n",
       "      <td></td>\n",
       "    </tr>\n",
       "    <tr>\n",
       "      <th>499732</th>\n",
       "      <td>2030001016412</td>\n",
       "      <td>株式会社ケイアンドエフ</td>\n",
       "      <td>3300074</td>\n",
       "      <td>埼玉県</td>\n",
       "      <td>さいたま市浦和区</td>\n",
       "      <td>北浦和</td>\n",
       "      <td>2-2-14</td>\n",
       "      <td></td>\n",
       "    </tr>\n",
       "    <tr>\n",
       "      <th>729885</th>\n",
       "      <td>6040003005020</td>\n",
       "      <td>合同会社エヌケイエス商会</td>\n",
       "      <td>2740825</td>\n",
       "      <td>千葉県</td>\n",
       "      <td>船橋市</td>\n",
       "      <td>前原西</td>\n",
       "      <td>1-5-19</td>\n",
       "      <td></td>\n",
       "    </tr>\n",
       "    <tr>\n",
       "      <th>4692546</th>\n",
       "      <td>4300001006359</td>\n",
       "      <td>株式会社ツツミ</td>\n",
       "      <td>8490937</td>\n",
       "      <td>佐賀県</td>\n",
       "      <td>佐賀市</td>\n",
       "      <td>鍋島</td>\n",
       "      <td>3-2-4</td>\n",
       "      <td></td>\n",
       "    </tr>\n",
       "    <tr>\n",
       "      <th>131827</th>\n",
       "      <td>9430001016480</td>\n",
       "      <td>株式会社ミントハウス</td>\n",
       "      <td>0600042</td>\n",
       "      <td>北海道</td>\n",
       "      <td>札幌市中央区</td>\n",
       "      <td>大通西</td>\n",
       "      <td>5-8</td>\n",
       "      <td></td>\n",
       "    </tr>\n",
       "  </tbody>\n",
       "</table>\n",
       "</div>"
      ],
      "text/plain": [
       "                  法人番号            法人名     郵便番号   g1        g2   g3  \\\n",
       "1274975  7010401065758  株式会社KMSアソシエイツ  1050014  東京都        港区    芝   \n",
       "499732   2030001016412    株式会社ケイアンドエフ  3300074  埼玉県  さいたま市浦和区  北浦和   \n",
       "729885   6040003005020   合同会社エヌケイエス商会  2740825  千葉県       船橋市  前原西   \n",
       "4692546  4300001006359        株式会社ツツミ  8490937  佐賀県       佐賀市   鍋島   \n",
       "131827   9430001016480     株式会社ミントハウス  0600042  北海道    札幌市中央区  大通西   \n",
       "\n",
       "                 g4 rest  \n",
       "1274975  2-5-15-210       \n",
       "499732       2-2-14       \n",
       "729885       1-5-19       \n",
       "4692546       3-2-4       \n",
       "131827          5-8       "
      ]
     },
     "execution_count": 13,
     "metadata": {},
     "output_type": "execute_result"
    }
   ],
   "source": [
    "# convert NaN to empty string\n",
    "data = data.fillna(\"\")\n",
    "data.sample(5)"
   ]
  },
  {
   "cell_type": "code",
   "execution_count": 14,
   "metadata": {},
   "outputs": [
    {
     "data": {
      "text/plain": [
       "Index(['法人番号', '法人名', '郵便番号', 'g1', 'g2', 'g3', 'g4', 'rest'], dtype='object')"
      ]
     },
     "execution_count": 14,
     "metadata": {},
     "output_type": "execute_result"
    }
   ],
   "source": [
    "data.columns"
   ]
  },
  {
   "cell_type": "code",
   "execution_count": 15,
   "metadata": {},
   "outputs": [
    {
     "data": {
      "text/plain": [
       "array([['有限会社ヨコカワ', '2750002', '千葉県', '習志野市', '実籾', '4-3-35-302', ''],\n",
       "       ['有限会社櫻井', '3760011', '群馬県', '桐生市', '相生町', '4-14-1', ''],\n",
       "       ['有限会社ハウジングエステート', '1160012', '東京都', '荒川区', '東尾久', '2-24-17', ''],\n",
       "       ['株式会社多津味', '9830011', '宮城県', '仙台市宮城野区', '栄', '2-24-11', ''],\n",
       "       ['有限会社兵庫赤帽', '6512112', '兵庫県', '神戸市西区', '大津和', '3-3-10', '']],\n",
       "      dtype=object)"
      ]
     },
     "execution_count": 15,
     "metadata": {},
     "output_type": "execute_result"
    }
   ],
   "source": [
    "fields_for_index = ['法人名', '郵便番号', 'g1', 'g2', 'g3', 'g4', 'rest']    \n",
    "# try a small set\n",
    "data.sample(5)[fields_for_index].values"
   ]
  },
  {
   "attachments": {},
   "cell_type": "markdown",
   "metadata": {},
   "source": [
    "Merge fields:"
   ]
  },
  {
   "cell_type": "code",
   "execution_count": 16,
   "metadata": {},
   "outputs": [
    {
     "data": {
      "text/plain": [
       "array(['株式会社駒坂パートナーズ 東京都新宿区上落合 2-5-10 ',\n",
       "       'スマート&会計合同会社 福岡県那珂川市中原 3-127-707 ', '東陽工業株式会社 大阪府大阪市平野区西脇 4-1-50 ',\n",
       "       '株式会社五洋 東京都品川区東五反田 1-11-9 ', '合同会社スリーヴィレッジ 大阪府大阪市平野区背戸口 1-14-9 '],\n",
       "      dtype=object)"
      ]
     },
     "execution_count": 16,
     "metadata": {},
     "output_type": "execute_result"
    }
   ],
   "source": [
    "data[\"concat_name\"] = data['法人名'] +  \" \" + data[\"g1\"] + data[\"g2\"] + data[\"g3\"] + \" \" + data[\"g4\"] + \" \" + data[\"rest\"]\n",
    "data[\"concat_name\"].sample(5).values"
   ]
  },
  {
   "attachments": {},
   "cell_type": "markdown",
   "metadata": {},
   "source": [
    "Now we will take the columns we need, before saving"
   ]
  },
  {
   "cell_type": "code",
   "execution_count": 17,
   "metadata": {},
   "outputs": [],
   "source": [
    "fields_to_save = [\"法人名\", \"concat_name\"]\n",
    "data = data[fields_to_save]"
   ]
  },
  {
   "attachments": {},
   "cell_type": "markdown",
   "metadata": {},
   "source": [
    "Run below cell if you want to take a subset only."
   ]
  },
  {
   "cell_type": "code",
   "execution_count": 9,
   "metadata": {},
   "outputs": [],
   "source": [
    "# data = data.sample(1000)"
   ]
  },
  {
   "attachments": {},
   "cell_type": "markdown",
   "metadata": {},
   "source": [
    "At last, we will store the new dataframe for use later"
   ]
  },
  {
   "cell_type": "code",
   "execution_count": 18,
   "metadata": {},
   "outputs": [],
   "source": [
    "data.to_csv(\"./features_full.csv\", index=False)"
   ]
  }
 ],
 "metadata": {
  "kernelspec": {
   "display_name": ".venv",
   "language": "python",
   "name": "python3"
  },
  "language_info": {
   "codemirror_mode": {
    "name": "ipython",
    "version": 3
   },
   "file_extension": ".py",
   "mimetype": "text/x-python",
   "name": "python",
   "nbconvert_exporter": "python",
   "pygments_lexer": "ipython3",
   "version": "3.9.13"
  },
  "orig_nbformat": 4
 },
 "nbformat": 4,
 "nbformat_minor": 2
}
