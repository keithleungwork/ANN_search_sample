{
 "cells": [
  {
   "attachments": {},
   "cell_type": "markdown",
   "metadata": {},
   "source": [
    "# Prepare dataset\n",
    "\n",
    "In this notebook, we will prepare the source csv data for use later.\n",
    "At last we will store the modified dataframe into a new csv.\n",
    "\n",
    "> Note: we will use a public Japanese company name as the data source. You can download [here](https://info.gbiz.go.jp/hojin/DownloadTop).\n"
   ]
  },
  {
   "cell_type": "code",
   "execution_count": 14,
   "metadata": {},
   "outputs": [
    {
     "name": "stdout",
     "output_type": "stream",
     "text": [
      "/Users/leung.tsz.kit/Desktop/work/code/test/github_repos/ann_search_sample/nearest_neighbor/.venv/bin/pip\n",
      "zsh:1: /Users/leung.tsz.kit/Desktop/work/code/test/github_repos/ann_search_sample/nearest_neighbor/.venv/bin/pip: bad interpreter: /Users/leung.tsz.kit/Desktop/work/code/test/github_repos/ann_search_sample/annoy/.venv/bin/python3.9: no such file or directory\n"
     ]
    }
   ],
   "source": [
    "# Let's install the dependencies..\n",
    "!pip install numpy pandas -q"
   ]
  },
  {
   "cell_type": "code",
   "execution_count": 5,
   "metadata": {},
   "outputs": [],
   "source": [
    "import numpy as np\n",
    "import pandas as pd\n",
    "import os\n",
    "import unicodedata\n",
    "import time\n",
    "from pprint import pprint as pp"
   ]
  },
  {
   "attachments": {},
   "cell_type": "markdown",
   "metadata": {},
   "source": [
    "Declare some variables..."
   ]
  },
  {
   "cell_type": "code",
   "execution_count": 3,
   "metadata": {},
   "outputs": [],
   "source": [
    "\n",
    "# Point to the csv you download\n",
    "csv_path = \"./tmp/info_gbiz/Kihonjoho_UTF-8.csv\""
   ]
  },
  {
   "attachments": {},
   "cell_type": "markdown",
   "metadata": {},
   "source": [
    "## Load the dataset\n",
    "\n",
    "We will load the dataset and clean the text."
   ]
  },
  {
   "cell_type": "code",
   "execution_count": 4,
   "metadata": {},
   "outputs": [
    {
     "data": {
      "text/html": [
       "<div>\n",
       "<style scoped>\n",
       "    .dataframe tbody tr th:only-of-type {\n",
       "        vertical-align: middle;\n",
       "    }\n",
       "\n",
       "    .dataframe tbody tr th {\n",
       "        vertical-align: top;\n",
       "    }\n",
       "\n",
       "    .dataframe thead th {\n",
       "        text-align: right;\n",
       "    }\n",
       "</style>\n",
       "<table border=\"1\" class=\"dataframe\">\n",
       "  <thead>\n",
       "    <tr style=\"text-align: right;\">\n",
       "      <th></th>\n",
       "      <th>法人名</th>\n",
       "      <th>郵便番号</th>\n",
       "      <th>本社所在地</th>\n",
       "    </tr>\n",
       "  </thead>\n",
       "  <tbody>\n",
       "    <tr>\n",
       "      <th>4979406</th>\n",
       "      <td>オシアナス株式会社</td>\n",
       "      <td>1040055</td>\n",
       "      <td>東京都中央区豊海町４－１８東京水産ビル５階</td>\n",
       "    </tr>\n",
       "    <tr>\n",
       "      <th>3233119</th>\n",
       "      <td>永田纎維株式会社</td>\n",
       "      <td>8300023</td>\n",
       "      <td>福岡県久留米市中央町２４番地の１</td>\n",
       "    </tr>\n",
       "    <tr>\n",
       "      <th>4940059</th>\n",
       "      <td>田川ＤＸ推進室株式会社</td>\n",
       "      <td>8250002</td>\n",
       "      <td>福岡県田川市大字伊田２６２１番１号ＪＲ田川伊田駅舎</td>\n",
       "    </tr>\n",
       "    <tr>\n",
       "      <th>4051398</th>\n",
       "      <td>重車輛整備株式会社</td>\n",
       "      <td>6500046</td>\n",
       "      <td>兵庫県神戸市中央区港島中町１丁目１番１８号</td>\n",
       "    </tr>\n",
       "    <tr>\n",
       "      <th>1798139</th>\n",
       "      <td>有限会社泰成企画</td>\n",
       "      <td>2130013</td>\n",
       "      <td>神奈川県川崎市高津区末長１１１６番地６</td>\n",
       "    </tr>\n",
       "  </tbody>\n",
       "</table>\n",
       "</div>"
      ],
      "text/plain": [
       "                 法人名     郵便番号                      本社所在地\n",
       "4979406    オシアナス株式会社  1040055      東京都中央区豊海町４－１８東京水産ビル５階\n",
       "3233119     永田纎維株式会社  8300023           福岡県久留米市中央町２４番地の１\n",
       "4940059  田川ＤＸ推進室株式会社  8250002  福岡県田川市大字伊田２６２１番１号ＪＲ田川伊田駅舎\n",
       "4051398    重車輛整備株式会社  6500046      兵庫県神戸市中央区港島中町１丁目１番１８号\n",
       "1798139     有限会社泰成企画  2130013        神奈川県川崎市高津区末長１１１６番地６"
      ]
     },
     "execution_count": 4,
     "metadata": {},
     "output_type": "execute_result"
    }
   ],
   "source": [
    "df = pd.read_csv(csv_path, dtype=str)\n",
    "# we only need these fields:\n",
    "df = df[[\"法人名\", \"郵便番号\", \"本社所在地\"]]\n",
    "df.sample(5)"
   ]
  },
  {
   "attachments": {},
   "cell_type": "markdown",
   "metadata": {},
   "source": [
    "If you browse through more samples, you will notice some problems:\n",
    "- Some words are in full-width but some are in half-width.\n",
    "- We want the postal code in this format: xxx-xxxx\n",
    "- Replace NaN value by empty string"
   ]
  },
  {
   "attachments": {},
   "cell_type": "markdown",
   "metadata": {},
   "source": [
    "First we prepare a function to normalize text."
   ]
  },
  {
   "cell_type": "code",
   "execution_count": 8,
   "metadata": {},
   "outputs": [
    {
     "data": {
      "text/plain": [
       "'アア福岡県田川市大字伊田2621番1号JR田川伊田駅舎'"
      ]
     },
     "execution_count": 8,
     "metadata": {},
     "output_type": "execute_result"
    }
   ],
   "source": [
    "# This is a common step for preprocessing CJK characters.\n",
    "def normalize_text(text):\n",
    "    text = unicodedata.normalize('NFKC', text)#.encode('ascii', 'ignore').decode('utf-8', 'ignore')\n",
    "    return text\n",
    "\n",
    "# For example\n",
    "normalize_text('ｱア福岡県田川市大字伊田２６２１番１号ＪＲ田川伊田駅舎')"
   ]
  },
  {
   "attachments": {},
   "cell_type": "markdown",
   "metadata": {},
   "source": [
    "Then, we convert the dataset by several operation."
   ]
  },
  {
   "cell_type": "code",
   "execution_count": 9,
   "metadata": {},
   "outputs": [
    {
     "data": {
      "text/html": [
       "<div>\n",
       "<style scoped>\n",
       "    .dataframe tbody tr th:only-of-type {\n",
       "        vertical-align: middle;\n",
       "    }\n",
       "\n",
       "    .dataframe tbody tr th {\n",
       "        vertical-align: top;\n",
       "    }\n",
       "\n",
       "    .dataframe thead th {\n",
       "        text-align: right;\n",
       "    }\n",
       "</style>\n",
       "<table border=\"1\" class=\"dataframe\">\n",
       "  <thead>\n",
       "    <tr style=\"text-align: right;\">\n",
       "      <th></th>\n",
       "      <th>法人名</th>\n",
       "      <th>郵便番号</th>\n",
       "      <th>本社所在地</th>\n",
       "    </tr>\n",
       "  </thead>\n",
       "  <tbody>\n",
       "    <tr>\n",
       "      <th>457911</th>\n",
       "      <td>医療法人志賀クリニック</td>\n",
       "      <td>327-0104</td>\n",
       "      <td>栃木県佐野市赤見町3152番地</td>\n",
       "    </tr>\n",
       "    <tr>\n",
       "      <th>1607549</th>\n",
       "      <td>株式会社Viels</td>\n",
       "      <td>221-0005</td>\n",
       "      <td>神奈川県横浜市神奈川区松見町3丁目492番地14</td>\n",
       "    </tr>\n",
       "    <tr>\n",
       "      <th>1148229</th>\n",
       "      <td>有限会社木内シール印刷</td>\n",
       "      <td>115-0055</td>\n",
       "      <td>東京都北区赤羽西3丁目28番15号</td>\n",
       "    </tr>\n",
       "    <tr>\n",
       "      <th>229330</th>\n",
       "      <td>株式会社ゼン</td>\n",
       "      <td>980-0802</td>\n",
       "      <td>宮城県仙台市青葉区二日町2番22号</td>\n",
       "    </tr>\n",
       "    <tr>\n",
       "      <th>5130357</th>\n",
       "      <td>株式会社ホテルいずくら</td>\n",
       "      <td>994-0025</td>\n",
       "      <td>山形県天童市鎌田本町3丁目2番26号</td>\n",
       "    </tr>\n",
       "  </tbody>\n",
       "</table>\n",
       "</div>"
      ],
      "text/plain": [
       "                 法人名      郵便番号                     本社所在地\n",
       "457911   医療法人志賀クリニック  327-0104           栃木県佐野市赤見町3152番地\n",
       "1607549    株式会社Viels  221-0005  神奈川県横浜市神奈川区松見町3丁目492番地14\n",
       "1148229  有限会社木内シール印刷  115-0055         東京都北区赤羽西3丁目28番15号\n",
       "229330        株式会社ゼン  980-0802         宮城県仙台市青葉区二日町2番22号\n",
       "5130357  株式会社ホテルいずくら  994-0025        山形県天童市鎌田本町3丁目2番26号"
      ]
     },
     "execution_count": 9,
     "metadata": {},
     "output_type": "execute_result"
    }
   ],
   "source": [
    "# fill Na with empty string\n",
    "df = df.fillna(\"\")\n",
    "# Normalize text\n",
    "df = df.applymap(normalize_text)\n",
    "# For 郵便番号, we want them in this format xxx-xxxx, if it is 7-digit\n",
    "def add_hyphen(postal_code):\n",
    "    if len(postal_code) == 7:\n",
    "        return postal_code[:3] + '-' + postal_code[3:]\n",
    "    else:\n",
    "        return postal_code\n",
    "df[\"郵便番号\"] = df[\"郵便番号\"].apply(add_hyphen)\n",
    "df.sample(5)\n"
   ]
  },
  {
   "attachments": {},
   "cell_type": "markdown",
   "metadata": {},
   "source": [
    "Almost there! We want a concatenated field containing the text columns:"
   ]
  },
  {
   "cell_type": "code",
   "execution_count": 10,
   "metadata": {},
   "outputs": [
    {
     "data": {
      "text/html": [
       "<div>\n",
       "<style scoped>\n",
       "    .dataframe tbody tr th:only-of-type {\n",
       "        vertical-align: middle;\n",
       "    }\n",
       "\n",
       "    .dataframe tbody tr th {\n",
       "        vertical-align: top;\n",
       "    }\n",
       "\n",
       "    .dataframe thead th {\n",
       "        text-align: right;\n",
       "    }\n",
       "</style>\n",
       "<table border=\"1\" class=\"dataframe\">\n",
       "  <thead>\n",
       "    <tr style=\"text-align: right;\">\n",
       "      <th></th>\n",
       "      <th>法人名</th>\n",
       "      <th>郵便番号</th>\n",
       "      <th>本社所在地</th>\n",
       "      <th>concat_name</th>\n",
       "    </tr>\n",
       "  </thead>\n",
       "  <tbody>\n",
       "    <tr>\n",
       "      <th>718091</th>\n",
       "      <td>株式会社キヨシゲ</td>\n",
       "      <td>279-0025</td>\n",
       "      <td>千葉県浦安市鉄鋼通り2丁目4番3号</td>\n",
       "      <td>株式会社キヨシゲ 279-0025 千葉県浦安市鉄鋼通り2丁目4番3号</td>\n",
       "    </tr>\n",
       "    <tr>\n",
       "      <th>456247</th>\n",
       "      <td>有限会社たなか</td>\n",
       "      <td>323-0032</td>\n",
       "      <td>栃木県小山市天神町1丁目2番7号</td>\n",
       "      <td>有限会社たなか 323-0032 栃木県小山市天神町1丁目2番7号</td>\n",
       "    </tr>\n",
       "    <tr>\n",
       "      <th>3849864</th>\n",
       "      <td>瀬田商事株式会社</td>\n",
       "      <td>171-0021</td>\n",
       "      <td>東京都豊島区西池袋5丁目5番21-1608号</td>\n",
       "      <td>瀬田商事株式会社 171-0021 東京都豊島区西池袋5丁目5番21-1608号</td>\n",
       "    </tr>\n",
       "    <tr>\n",
       "      <th>2071549</th>\n",
       "      <td>株式会社ツカサ</td>\n",
       "      <td>504-0963</td>\n",
       "      <td>岐阜県各務原市那加北栄町28番地の1</td>\n",
       "      <td>株式会社ツカサ 504-0963 岐阜県各務原市那加北栄町28番地の1</td>\n",
       "    </tr>\n",
       "    <tr>\n",
       "      <th>225414</th>\n",
       "      <td>有限会社REAL CRAFT</td>\n",
       "      <td>983-0034</td>\n",
       "      <td>宮城県仙台市宮城野区扇町7丁目1番26号</td>\n",
       "      <td>有限会社REAL CRAFT 983-0034 宮城県仙台市宮城野区扇町7丁目1番26号</td>\n",
       "    </tr>\n",
       "  </tbody>\n",
       "</table>\n",
       "</div>"
      ],
      "text/plain": [
       "                    法人名      郵便番号                   本社所在地  \\\n",
       "718091         株式会社キヨシゲ  279-0025       千葉県浦安市鉄鋼通り2丁目4番3号   \n",
       "456247          有限会社たなか  323-0032        栃木県小山市天神町1丁目2番7号   \n",
       "3849864        瀬田商事株式会社  171-0021  東京都豊島区西池袋5丁目5番21-1608号   \n",
       "2071549         株式会社ツカサ  504-0963      岐阜県各務原市那加北栄町28番地の1   \n",
       "225414   有限会社REAL CRAFT  983-0034    宮城県仙台市宮城野区扇町7丁目1番26号   \n",
       "\n",
       "                                          concat_name  \n",
       "718091            株式会社キヨシゲ 279-0025 千葉県浦安市鉄鋼通り2丁目4番3号  \n",
       "456247              有限会社たなか 323-0032 栃木県小山市天神町1丁目2番7号  \n",
       "3849864      瀬田商事株式会社 171-0021 東京都豊島区西池袋5丁目5番21-1608号  \n",
       "2071549           株式会社ツカサ 504-0963 岐阜県各務原市那加北栄町28番地の1  \n",
       "225414   有限会社REAL CRAFT 983-0034 宮城県仙台市宮城野区扇町7丁目1番26号  "
      ]
     },
     "execution_count": 10,
     "metadata": {},
     "output_type": "execute_result"
    }
   ],
   "source": [
    "df[\"concat_name\"] = df[\"法人名\"] + \" \" + df[\"郵便番号\"] + \" \" + df[\"本社所在地\"]\n",
    "# Remove any leading/trailing space\n",
    "df = df.applymap(str.strip)\n",
    "df.sample(5)"
   ]
  },
  {
   "attachments": {},
   "cell_type": "markdown",
   "metadata": {},
   "source": [
    "Run below cell if you want to take a subset only."
   ]
  },
  {
   "cell_type": "code",
   "execution_count": 9,
   "metadata": {},
   "outputs": [],
   "source": [
    "# data = data.sample(1000)"
   ]
  },
  {
   "attachments": {},
   "cell_type": "markdown",
   "metadata": {},
   "source": [
    "At last, we will store the new dataframe for use later"
   ]
  },
  {
   "cell_type": "code",
   "execution_count": 11,
   "metadata": {},
   "outputs": [],
   "source": [
    "df.to_csv(\"./tmp/converted_company_ds.csv\", index=False)"
   ]
  }
 ],
 "metadata": {
  "kernelspec": {
   "display_name": ".venv",
   "language": "python",
   "name": "python3"
  },
  "language_info": {
   "codemirror_mode": {
    "name": "ipython",
    "version": 3
   },
   "file_extension": ".py",
   "mimetype": "text/x-python",
   "name": "python",
   "nbconvert_exporter": "python",
   "pygments_lexer": "ipython3",
   "version": "3.9.13"
  },
  "orig_nbformat": 4
 },
 "nbformat": 4,
 "nbformat_minor": 2
}
